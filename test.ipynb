{
 "cells": [
  {
   "cell_type": "code",
   "execution_count": null,
   "metadata": {},
   "outputs": [],
   "source": [
    "import matplotlib.pyplot as plt\n",
    "import matplotlib.patches as patches\n",
    "\n",
    "# Create a new figure and axis.\n",
    "fig, ax = plt.subplots(figsize=(4, 4))\n",
    "\n",
    "def draw_node(x, y, radius=0.1):\n",
    "    circle = patches.Circle((x, y), radius, edgecolor='black', facecolor='none', lw=2)\n",
    "    ax.add_patch(circle)\n",
    "    return (x, y)\n",
    "\n",
    "def draw_arrow(start, end):\n",
    "    ax.annotate(\"\",\n",
    "                xy=end, xycoords='data',\n",
    "                xytext=start, textcoords='data',\n",
    "                arrowprops=dict(arrowstyle=\"->\", lw=2))\n",
    "\n",
    "# Define positions for a simple behavior tree:\n",
    "#         Root\n",
    "#        /    \\\n",
    "#  Composite   Leaf\n",
    "#    /    \\\n",
    "# Leaf    Leaf\n",
    "\n",
    "# Position definitions:\n",
    "root = (0, 0.8)\n",
    "left_comp = (-0.5, 0)\n",
    "right_leaf = (0.5, 0)\n",
    "left_leaf  = (-0.75, -0.8)\n",
    "right_leaf_left_comp = (-0.25, -0.8)\n",
    "\n",
    "# Draw the nodes.\n",
    "draw_node(*root)\n",
    "draw_node(*left_comp)\n",
    "draw_node(*right_leaf)\n",
    "draw_node(*left_leaf)\n",
    "draw_node(*right_leaf_left_comp)\n",
    "\n",
    "# Draw the connecting arrows.\n",
    "draw_arrow(root, left_comp)\n",
    "draw_arrow(root, right_leaf)\n",
    "draw_arrow(left_comp, left_leaf)\n",
    "draw_arrow(left_comp, right_leaf_left_comp)\n",
    "\n",
    "# Configure the plot.\n",
    "ax.set_xlim(-1.5, 1.5)\n",
    "ax.set_ylim(-1.5, 1.5)\n",
    "ax.axis('off')\n",
    "plt.gca().set_aspect('equal', adjustable='box')\n",
    "\n",
    "# Save and display the image.\n",
    "plt.savefig('behaviour_tree.png', bbox_inches='tight', pad_inches=0.1, dpi=300)\n",
    "plt.show()\n"
   ]
  },
  {
   "cell_type": "code",
   "execution_count": null,
   "metadata": {},
   "outputs": [],
   "source": [
    "# !pip install roboflow\n",
    "\n",
    "from roboflow import Roboflow\n",
    "rf = Roboflow(api_key=\"NzELqklXqbajoaoJld0g\")\n",
    "project = rf.workspace(\"bbpds\").project(\"legos-wplsn-qguoc\")\n",
    "version = project.version(1)\n",
    "dataset = version.download(\"yolov11\")\n",
    "                "
   ]
  },
  {
   "cell_type": "code",
   "execution_count": null,
   "metadata": {},
   "outputs": [],
   "source": [
    "from ultralytics import YOLO\n",
    "\n",
    "# Load a pretrained YOLO11n model\n",
    "model = YOLO(\"yolo11n.pt\")\n",
    "\n",
    "# Train the model on the COCO8 dataset for 100 epochs\n",
    "train_results = model.train(\n",
    "    data=\"duplo-model-1/data.yaml\",  # Path to dataset configuration file\n",
    "    epochs=100,  # Number of training epochs\n",
    "    imgsz=640,  # Image size for training\n",
    "    device=\"mps\",  # Device to run on (e.g., 'cpu', 0, [0,1,2,3])\n",
    ")\n",
    "\n",
    "# Evaluate the model's performance on the validation set\n",
    "metrics = model.val()\n",
    "\n",
    "# # Perform object detection on an image\n",
    "# results = model(\"path/to/image.jpg\")  # Predict on an image\n",
    "# results[0].show()  # Display results\n",
    "\n",
    "# Export the model to ONNX format for deployment\n",
    "path = model.export(format=\"ncnn\")  # Returns the path to the exported model"
   ]
  },
  {
   "cell_type": "code",
   "execution_count": null,
   "metadata": {},
   "outputs": [],
   "source": [
    "!pip install --upgrade ultralytics"
   ]
  }
 ],
 "metadata": {
  "kernelspec": {
   "display_name": "luts",
   "language": "python",
   "name": "python3"
  },
  "language_info": {
   "codemirror_mode": {
    "name": "ipython",
    "version": 3
   },
   "file_extension": ".py",
   "mimetype": "text/x-python",
   "name": "python",
   "nbconvert_exporter": "python",
   "pygments_lexer": "ipython3",
   "version": "3.10.14"
  }
 },
 "nbformat": 4,
 "nbformat_minor": 2
}
